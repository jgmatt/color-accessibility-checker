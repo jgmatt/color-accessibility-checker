{
  "cells": [
    {
      "cell_type": "code",
      "execution_count": null,
      "metadata": {
        "id": "30f8NW0jEyJu"
      },
      "outputs": [],
      "source": [
        "# Install required packages in the Colab runtime\n",
        "!pip install pdf2image reportlab > /dev/null\n",
        "!apt install poppler-utils > /dev/null\n",
        "!pip install daltonlens > /dev/null\n",
        "print(\"Successfully installed all required packages!\")"
      ]
    },
    {
      "cell_type": "code",
      "execution_count": null,
      "metadata": {
        "id": "RWkC5h2cDTVE"
      },
      "outputs": [],
      "source": [
        "import numpy as np\n",
        "from pdf2image import convert_from_path\n",
        "from reportlab.pdfgen import canvas\n",
        "from reportlab.lib.pagesizes import letter\n",
        "from PIL import Image\n",
        "from daltonlens import convert, simulate, generate\n",
        "from io import BytesIO\n",
        "import ipywidgets as widgets\n",
        "from IPython.display import display"
      ]
    },
    {
      "cell_type": "code",
      "execution_count": null,
      "metadata": {
        "id": "Qa6QLOuLEaTJ"
      },
      "outputs": [],
      "source": [
        "def simulate_colorblindness(image, cb_type=\"deuteranopia\", severity=1.0):\n",
        "    \"\"\"Apply colorblind filter to an image.\"\"\"\n",
        "    cb_filters = {\n",
        "        \"deuteranopia\": simulate.Deficiency.DEUTAN,\n",
        "        \"protanopia\": simulate.Deficiency.PROTAN,\n",
        "        \"tritanopia\": simulate.Deficiency.TRITAN,\n",
        "    }\n",
        "    image = image.convert('RGB')\n",
        "    # limit size\n",
        "    MAX_WIDTH = 1000\n",
        "    MAX_HEIGHT = 2000\n",
        "    if image.width > MAX_WIDTH:\n",
        "        image = image.resize((MAX_WIDTH, int(image.height * MAX_WIDTH / image.width)))\n",
        "    if image.height > MAX_HEIGHT:\n",
        "        image = image.resize((int(image.width * MAX_HEIGHT / image.height), MAX_HEIGHT))\n",
        "\n",
        "    im = np.asarray(image.convert('RGB'))\n",
        "    if cb_type in cb_filters:\n",
        "      simulator = simulate.Simulator_Machado2009()\n",
        "      protan_im = simulator.simulate_cvd(im, simulate.Deficiency.DEUTAN, severity=severity)\n",
        "      return Image.fromarray(protan_im)\n",
        "    # elif cb_type == \"grayscale\":\n",
        "    #   gray_im = cv2.cvtColor(im, cv2.COLOR_RGB2GRAY)\n",
        "    #   return Image.fromarray(gray_im)\n",
        "    else:\n",
        "      raise ValueError(f\"Unsupported colorblindness type: {cb_type}\")"
      ]
    },
    {
      "cell_type": "code",
      "execution_count": null,
      "metadata": {
        "id": "u_8E8hR0EaRC"
      },
      "outputs": [],
      "source": [
        "def process_images(input_files, cb_type=\"deuteranopia\", severity=1.0, pdf_page=1):\n",
        "    \"\"\"Process various image formats and save as a PDF.\"\"\"\n",
        "    images = []\n",
        "    for file in input_files:\n",
        "        if file.lower().endswith(\".pdf\"):\n",
        "            images.extend(convert_from_path(file, first_page=pdf_page, last_page=pdf_page))\n",
        "        else:\n",
        "            images.append(Image.open(file))\n",
        "    filtered_images = [simulate_colorblindness(img, cb_type, severity) for img in images]\n",
        "    return filtered_images\n"
      ]
    },
    {
      "cell_type": "code",
      "execution_count": null,
      "metadata": {
        "id": "WqNvgoLeEaPC"
      },
      "outputs": [],
      "source": [
        "def upload_files():\n",
        "    upload_widget = widgets.FileUpload(accept='.pdf,.jpg,.jpeg,.png,', multiple=True)\n",
        "    display(upload_widget)\n",
        "    return upload_widget"
      ]
    },
    {
      "cell_type": "markdown",
      "metadata": {
        "id": "wkFBj5kTErJ5"
      },
      "source": [
        "# Upload your figure here"
      ]
    },
    {
      "cell_type": "code",
      "execution_count": null,
      "metadata": {
        "id": "hotzVhrcEZ9w"
      },
      "outputs": [],
      "source": [
        "upload_widget = upload_files()"
      ]
    },
    {
      "cell_type": "code",
      "execution_count": null,
      "metadata": {
        "id": "VNoOZPqCEkd8"
      },
      "outputs": [],
      "source": [
        "if upload_widget.value:\n",
        "    uploaded_files = []\n",
        "    for uploaded_filename in upload_widget.value.keys():\n",
        "        with open(uploaded_filename, \"wb\") as f:\n",
        "            f.write(upload_widget.value[uploaded_filename]['content'])\n",
        "        uploaded_files.append(uploaded_filename)\n",
        "\n",
        "    ## Change settings here\n",
        "    output_pdf = \"output.pdf\"\n",
        "    cb_type = \"deuteranopia\"  # Deuteranopia is the most common form of colorblindness. Try changing to 'protanopia', 'tritanopia', or 'grayscale'\n",
        "    severity = 1.0            # Choose in [0,1]\n",
        "    pdf_page = 7              # If you uploaded a PDF with multiple pages, select which page you would like to display\n",
        "\n",
        "    filtered_images = process_images(uploaded_files, cb_type, severity, pdf_page)\n",
        "\n",
        "    # Display modified images in notebook\n",
        "    for img in filtered_images:\n",
        "        display(img)"
      ]
    },
    {
      "cell_type": "code",
      "execution_count": null,
      "metadata": {},
      "outputs": [],
      "source": []
    }
  ],
  "metadata": {
    "colab": {
      "provenance": []
    },
    "kernelspec": {
      "display_name": "misc",
      "language": "python",
      "name": "python3"
    },
    "language_info": {
      "codemirror_mode": {
        "name": "ipython",
        "version": 3
      },
      "file_extension": ".py",
      "mimetype": "text/x-python",
      "name": "python",
      "nbconvert_exporter": "python",
      "pygments_lexer": "ipython3",
      "version": "3.13.2"
    }
  },
  "nbformat": 4,
  "nbformat_minor": 0
}
